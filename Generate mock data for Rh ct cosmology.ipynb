{
 "cells": [
  {
   "cell_type": "code",
   "execution_count": null,
   "metadata": {},
   "outputs": [],
   "source": [
    "The cosmology is Rh=ct cosmology. DL=(1+z)*(c/H0)*ln(1+z), calculate the conditonal prior DL for H_0 P(dl|H_0) and normolization;\n",
    "Given DL H0 solve z need the lamvert w function;\n",
    "c_l is the speed of light 3*10^5 km/s"
   ]
  },
  {
   "cell_type": "code",
   "execution_count": 145,
   "metadata": {},
   "outputs": [],
   "source": [
    "import numpy as np\n",
    "import bilby\n",
    "from scipy import interpolate\n",
    "from matplotlib import pyplot as plt\n",
    "import random\n",
    "from scipy import integrate\n",
    "from scipy.special import lambertw\n",
    "#####################################\n",
    "outdir='outdir'\n",
    "c_l=3*10**5\n",
    "def ogetz(dl,H0):\n",
    "    '''\n",
    "    dl is the luminosity distance\n",
    "    H0 is the Hubble constant\n",
    "    return reshift z given H0 dl\n",
    "    '''\n",
    "    t=dl*H0/(3*10**5)\n",
    "    return (np.exp(lambertw(t))-1).real\n",
    "def PDL(DL,H0):\n",
    "    '''\n",
    "    prior for DL\n",
    "    return probability\n",
    "    '''\n",
    "    z=ogetz(DL,H0)\n",
    "    return (DL*DL)/((1+z)**3)\n",
    "def normPDL(DL,H0):\n",
    "    '''\n",
    "    Normalize the prior for DL\n",
    "    Normalize area DL [0,30400Mpc]\n",
    "    '''\n",
    "    ss=np.trapz(PDL(np.arange(0,30400,100),H0),np.arange(0,30400,100))\n",
    "    return PDL(DL,H0)/ss  "
   ]
  },
  {
   "cell_type": "markdown",
   "metadata": {},
   "source": [
    "P(m1),P(m2) source frame\n",
    "the prior for m1 m2 in source frame, according Colm&Eric paper\n",
    "the ture value for parameter form Colm&Eric paper and Rory's code"
   ]
  },
  {
   "cell_type": "code",
   "execution_count": 167,
   "metadata": {},
   "outputs": [],
   "source": [
    "#mmin is the min value for m1\n",
    "alpha=1.5\n",
    "mmax=40\n",
    "lamda=0.1\n",
    "mpp=35\n",
    "deltapp=1.0\n",
    "beta=-0.2\n",
    "mmin=8\n",
    "deltam=0.1\n",
    "def fm(m):\n",
    "    return deltam/(m)-(deltam/((m-deltam)))\n",
    "def Sm(m):\n",
    "    return 1/(np.exp(fm(m-2.901))+1)\n",
    "def ppow(m):\n",
    "    return (m**(-1*alpha))*Sm(m)\n",
    "def ppp(m):\n",
    "    return np.exp(-1*(m-mpp)**2/(2*deltapp*deltapp))*Sm(m)\n",
    "def Pm1(m):\n",
    "    return ((1-lamda)*ppow(m)+lamda*ppp(m))\n",
    "def Pm2(m2,m):\n",
    "    return ((m2/m)**beta)*Sm(m2)\n",
    "def normPm1(m):\n",
    "    ss=np.trapz(Pm1(np.arange(mmin,40.5,0.5)),np.arange(mmin,40.5,0.5))\n",
    "    return (Pm1(m)/ss)\n",
    "def normPm2(m2,m):\n",
    "    ss=np.trapz(Pm2(np.arange(mmin,40.5,0.5),40),np.arange(mmin,40.5,0.5))\n",
    "    return Pm2(m2,m)/ss"
   ]
  },
  {
   "cell_type": "markdown",
   "metadata": {},
   "source": [
    "According to the prior to generate the mock data samples DL m1 m2;\n",
    "The number of event is choiceN;\n",
    "deltadl is the step for DL; "
   ]
  },
  {
   "cell_type": "code",
   "execution_count": 169,
   "metadata": {},
   "outputs": [
    {
     "data": {
      "image/png": "[encoded data removed]",
      "text/plain": [
       "<Figure size 432x288 with 1 Axes>"
      ]
     },
     "metadata": {
      "needs_background": "light"
     },
     "output_type": "display_data"
    }
   ],
   "source": [
    "choiceN=10000\n",
    "deltadl=30\n",
    "sampdl = random.choices(np.arange(1,30030,deltadl),PDL(np.arange(1,30030,deltadl),70), k=choiceN)\n",
    "sampz=ogetz(np.array(sampdl),70) #rhct cosmology\n",
    "sampm1 = random.choices(np.arange(8,40.5,0.5),Pm1(np.arange(8,40.5,0.5)), k=choiceN)\n",
    "sampm1z=(np.array(sampz)+1)*np.array(sampm1)\n",
    "temsampm2=np.zeros((choiceN,1))\n",
    "for i in range(choiceN):\n",
    "    temsampm2[i,:] = random.choices(np.arange(8,(sampm1[i]+0.5),0.5),Pm2(np.arange(8,(sampm1[i]+0.5),0.5),sampm1[i]),k=1)\n",
    "sampm2=temsampm2.flatten()\n",
    "sampm2z=np.array(sampm2)*((np.array(sampz)+1))\n",
    "sampq=sampm2/sampm1\n",
    "sampdl=np.array(sampdl)\n",
    "sampm1z=np.array(sampm1z)\n",
    "sampm2z=np.array(sampm2z)\n",
    "plt.hist(sampm2,20,alpha=0.4,density=False,label='SuorceFrame m2')\n",
    "plt.hist(sampm1,20,alpha=0.5,density=False,label='SuorceFrame m1')\n",
    "plt.legend(prop={'size': 16})\n",
    "plt.xlabel(r'$mass(M\\odot)$')\n",
    "plt.ylabel(r'$Events$')\n",
    "plt.legend(loc='upper right')\n",
    "plt.tight_layout()\n",
    "plt.show()"
   ]
  },
  {
   "cell_type": "markdown",
   "metadata": {},
   "source": [
    "According to prior for the other 12 parameters a_1 a_2 ......;\n",
    "the prior form bilby.gw.prior;\n",
    "add the samples DL m1 m2 to the other 12 parameters samples;\n",
    "return: [events x 15] array txt file, event=10000;"
   ]
  },
  {
   "cell_type": "code",
   "execution_count": null,
   "metadata": {},
   "outputs": [],
   "source": [
    "label = 'samplesdata'\n",
    "bilby.core.utils.setup_logger(outdir=outdir, label=label)\n",
    "duration = 4\n",
    "sampling_frequency = 2048\n",
    "geocent_time_random=np.random.uniform(10**9,10**10,choiceN)\n",
    "a_1_prior         =bilby.gw.prior.Uniform(minimum=0, maximum=0.8, name='a_1', latex_label='$a_1$', unit=None, periodic_boundary=False)\n",
    "a_2_prior         =bilby.gw.prior.Uniform(minimum=0, maximum=0.8, name='a_2', latex_label='$a_2$', unit=None, periodic_boundary=False)\n",
    "tilt_1_prior      =bilby.core.prior.Sine(name='tilt_1', latex_label='$\\\\theta_1$', unit=None, minimum=0, maximum=3.141592653589793, periodic_boundary=False)\n",
    "tilt_2_prior      =bilby.core.prior.Sine(name='tilt_1', latex_label='$\\\\theta_1$', unit=None, minimum=0, maximum=3.141592653589793, periodic_boundary=False)\n",
    "phi_12_prior      =bilby.gw.prior.Uniform(minimum=0, maximum=6.283185307179586, name='phi_12', latex_label='$\\\\Delta\\\\phi$', unit=None, periodic_boundary=True)\n",
    "phi_jl_prior      =bilby.gw.prior.Uniform(minimum=0, maximum=6.283185307179586, name='phi_jl', latex_label='$\\\\phi_{JL}$', unit=None, periodic_boundary=True)\n",
    "theta_jn_prior    =bilby.core.prior.Sine(name='theta_jn', latex_label='$\\\\theta_{JN}$', unit=None, minimum=0, maximum=3.141592653589793, periodic_boundary=False)\n",
    "psi_prior         =bilby.gw.prior.Uniform(minimum=0, maximum=3.141592653589793, name='psi', latex_label='$\\\\psi$', unit=None, periodic_boundary=True)\n",
    "phase_prior       =bilby.gw.prior.Uniform(minimum=0, maximum=6.283185307179586, name='phase', latex_label='$\\\\phi$', unit=None, periodic_boundary=True)\n",
    "geocent_time_prior=bilby.gw.prior.Uniform(minimum=geocent_time_random- 1,maximum=geocent_time_random + 1,name='geocent_time', latex_label='$t_c$', unit='$s$')\n",
    "ra_prior          =bilby.gw.prior.Uniform(minimum=0, maximum=6.283185307179586, name='ra', latex_label='$\\\\mathrm{RA}$', unit=None, periodic_boundary=True)\n",
    "dec_prior         =bilby.core.prior.Cosine(name='dec', latex_label='$\\\\mathrm{DEC}$', unit=None, minimum=-1.5707963267948966, maximum=1.5707963267948966, periodic_boundary=False)\n",
    "kk=choiceN#number of event\n",
    "inpa=np.zeros((kk,15))\n",
    "smaples_a_1 = a_1_prior.sample(kk)\n",
    "smaples_a_2 = a_2_prior.sample(kk)\n",
    "smaples_tilt_1 = tilt_1_prior.sample(kk)\n",
    "smaples_tilt_2 = tilt_2_prior.sample(kk)\n",
    "smaples_phi_12 = phi_12_prior.sample(kk)\n",
    "smaples_phi_jl = phi_jl_prior.sample(kk)\n",
    "smaples_theta_jn = theta_jn_prior.sample(kk)\n",
    "smaples_psi = psi_prior.sample(kk)\n",
    "smaples_phase = phase_prior.sample(kk)\n",
    "smaples_geocent_time = geocent_time_prior.sample(kk)\n",
    "smaples_ra = ra_prior.sample(kk)\n",
    "smaples_dec = dec_prior.sample(kk)\n",
    "inpa[:,0]=sampm1z#samples_mass_1\n",
    "inpa[:,1]=sampm2z#smaples_mass_2\n",
    "inpa[:,2]=smaples_a_1\n",
    "inpa[:,3]=smaples_a_2\n",
    "inpa[:,4]=smaples_tilt_1\n",
    "inpa[:,5]=smaples_tilt_2\n",
    "inpa[:,6]=smaples_phi_12\n",
    "inpa[:,7]=smaples_phi_jl\n",
    "inpa[:,8]=sampdl#smaples_luminosity_distance\n",
    "inpa[:,9]=smaples_theta_jn\n",
    "inpa[:,10]=smaples_psi\n",
    "inpa[:,11]=smaples_phase\n",
    "inpa[:,12]=smaples_geocent_time\n",
    "inpa[:,13]=smaples_ra\n",
    "inpa[:,14]=smaples_dec\n",
    "np.savetxt('RHCTcosmology15p.txt',inpa)"
   ]
  }
 ],
 "metadata": {
  "kernelspec": {
   "display_name": "Python 3",
   "language": "python",
   "name": "python3"
  },
  "language_info": {
   "codemirror_mode": {
    "name": "ipython",
    "version": 3
   },
   "file_extension": ".py",
   "mimetype": "text/x-python",
   "name": "python",
   "nbconvert_exporter": "python",
   "pygments_lexer": "ipython3",
   "version": "3.7.1"
  }
 },
 "nbformat": 4,
 "nbformat_minor": 2
}
